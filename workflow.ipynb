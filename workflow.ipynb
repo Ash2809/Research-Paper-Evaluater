{
 "cells": [
  {
   "cell_type": "code",
   "execution_count": 1,
   "metadata": {},
   "outputs": [
    {
     "name": "stderr",
     "output_type": "stream",
     "text": [
      "c:\\a\\envs\\env2\\lib\\site-packages\\tqdm\\auto.py:21: TqdmWarning: IProgress not found. Please update jupyter and ipywidgets. See https://ipywidgets.readthedocs.io/en/stable/user_install.html\n",
      "  from .autonotebook import tqdm as notebook_tqdm\n",
      "c:\\a\\envs\\env2\\lib\\site-packages\\IPython\\core\\interactiveshell.py:3577: LangChainDeprecationWarning: As of langchain-core 0.3.0, LangChain uses pydantic v2 internally. The langchain.pydantic_v1 module was a compatibility shim for pydantic v1, and should no longer be used. Please update the code to import from Pydantic directly.\n",
      "\n",
      "For example, replace imports like: `from langchain.pydantic_v1 import BaseModel`\n",
      "with: `from pydantic import BaseModel`\n",
      "or the v1 compatibility namespace if you are working in a code base that has not been fully upgraded to pydantic 2 yet. \tfrom pydantic.v1 import BaseModel\n",
      "\n",
      "  exec(code_obj, self.user_global_ns, self.user_ns)\n"
     ]
    }
   ],
   "source": [
    "from langchain_text_splitters import RecursiveCharacterTextSplitter\n",
    "from langchain.document_loaders import PyPDFLoader, DirectoryLoader\n",
    "from langchain_google_genai import ChatGoogleGenerativeAI, GoogleGenerativeAIEmbeddings\n",
    "from langchain_core.prompts import ChatPromptTemplate\n",
    "from langchain.pydantic_v1 import BaseModel, Field\n",
    "from langchain_core.output_parsers import StrOutputParser\n",
    "from langchain.schema import Document\n",
    "from langgraph.graph import START, StateGraph, END\n",
    "from typing import Literal, List\n",
    "from typing_extensions import TypedDict\n",
    "from dotenv import load_dotenv\n",
    "from PIL import Image\n",
    "import json\n",
    "import os"
   ]
  },
  {
   "cell_type": "code",
   "execution_count": 2,
   "metadata": {},
   "outputs": [],
   "source": [
    "load_dotenv()\n",
    "GOOGLE_API_KEY = os.getenv(\"GOOGLE_API_KEY\")\n",
    "llm = ChatGoogleGenerativeAI(api_key = GOOGLE_API_KEY, model = \"gemini-1.5-flash\",temperature = 0.1)"
   ]
  },
  {
   "cell_type": "code",
   "execution_count": 3,
   "metadata": {},
   "outputs": [
    {
     "data": {
      "text/plain": [
       "'Hello there! How can I help you today?\\n'"
      ]
     },
     "execution_count": 3,
     "metadata": {},
     "output_type": "execute_result"
    }
   ],
   "source": [
    "llm.invoke(\"hello\").content"
   ]
  },
  {
   "cell_type": "code",
   "execution_count": 71,
   "metadata": {},
   "outputs": [],
   "source": [
    "class GraphState(TypedDict):\n",
    "    result : str  \n",
    "    doc : str  "
   ]
  },
  {
   "cell_type": "code",
   "execution_count": 72,
   "metadata": {},
   "outputs": [],
   "source": [
    "def pdf_extractor(state):\n",
    "    doc = state[\"doc\"]\n",
    "    loader = DirectoryLoader(r\"C:\\Projects\\Research-Paper-Evaluater\\data\\\\\", glob=\"*.pdf\", loader_cls=PyPDFLoader)\n",
    "    documents = loader.load()\n",
    "    all_text = \" \".join([doc.page_content for doc in documents])\n",
    "\n",
    "    return {\"doc\" : all_text}"
   ]
  },
  {
   "cell_type": "code",
   "execution_count": 73,
   "metadata": {},
   "outputs": [],
   "source": [
    "def report_decider(state):\n",
    "    doc = state[\"doc\"]\n",
    "    print(doc[:100]) \n",
    "    \n",
    "    class decide(BaseModel):\n",
    "        Binary_Score: str = Field(..., description=\"Is this Report Publishable?, respond with Yes or No.\")\n",
    "    \n",
    "    structured_llm = llm.with_structured_output(decide)\n",
    "    \n",
    "    system = \"\"\"\n",
    "    You are an AI system tasked with determining whether a given document is a publishable research paper. A publishable research paper must meet the following criteria:\n",
    "\n",
    "    1. Structure:\n",
    "    - The document includes a title, abstract, introduction, methodology, results, discussion, and references.\n",
    "    \n",
    "    2. **Content**:\n",
    "    - The document presents original research, analysis, or findings.\n",
    "    - It has a clear research question, hypothesis, or objective.\n",
    "    - The methodology is well-detailed and appropriate for the research question.\n",
    "    - Results are presented with supporting data, graphs, or tables.\n",
    "\n",
    "    3. **Language and Formatting**:\n",
    "    - The writing is clear, concise, and follows academic standards.\n",
    "    - Proper citations and references are included in a recognized citation style.\n",
    "\n",
    "    4. **Credibility**:\n",
    "    - Sources cited in the references are credible and relevant to the topic.\n",
    "    - The claims made are supported by sufficient evidence.\n",
    "\n",
    "    Your task is to analyze the provided document and respond with \"Yes\" if it meets these criteria for publication or \"No\" if it does not.\n",
    "\n",
    "    Document: {doc}\n",
    "    \"\"\"  \n",
    "    \n",
    "    binary_prompt = ChatPromptTemplate.from_messages(\n",
    "        [\n",
    "            (\"system\", system),\n",
    "            (\"human\", f\"paper: {doc}\")\n",
    "        ]\n",
    "    )\n",
    "    \n",
    "    grader_chain = binary_prompt | structured_llm\n",
    "    \n",
    "    llm_response = grader_chain.invoke({\"doc\": doc})  # Pass the correct key\n",
    "    print(\"Detecting Report\")\n",
    "    \n",
    "    if llm_response.Binary_Score == \"Yes\":\n",
    "        return {\"result\": \"Yes\"}\n",
    "    else:\n",
    "        return {\"result\": \"No\"}\n"
   ]
  },
  {
   "cell_type": "code",
   "execution_count": 74,
   "metadata": {},
   "outputs": [],
   "source": [
    "workflow = StateGraph(GraphState)\n",
    "\n",
    "workflow.add_node(\"PDF_Extractor\", pdf_extractor)\n",
    "workflow.add_node(\"Report_Generator\", report_decider)\n",
    "\n",
    "# workflow.add_edge(START, \"PDF_Extractor\")\n",
    "workflow.add_edge(START, \"Report_Generator\")\n",
    "workflow.add_edge(\"Report_Generator\", END)\n",
    "\n",
    "app = workflow.compile()"
   ]
  },
  {
   "cell_type": "code",
   "execution_count": 75,
   "metadata": {},
   "outputs": [
    {
     "data": {
      "image/png": "[encoded data removed]",
      "text/plain": [
       "<IPython.core.display.Image object>"
      ]
     },
     "metadata": {},
     "output_type": "display_data"
    }
   ],
   "source": [
    "from IPython.display import Image, display\n",
    "\n",
    "try:\n",
    "    display(Image(app.get_graph().draw_mermaid_png()))\n",
    "except Exception:\n",
    "    pass"
   ]
  },
  {
   "cell_type": "code",
   "execution_count": null,
   "metadata": {},
   "outputs": [
    {
     "name": "stdout",
     "output_type": "stream",
     "text": [
      "First 200 characters of the document text:\n",
      "Examining the Convergence of Denoising Diffusion Probabilistic\n",
      "Models: A Quantitative Analysis\n",
      "Abstract\n",
      "Deep generative models, particularly diffusion models, are a significant family within deep lear\n",
      "Examining the Convergence of Denoising Diffusion Probabilistic\n",
      "Models: A Quantitative Analysis\n",
      "Abstr\n",
      "Detecting Report\n",
      "Node 'Report_Generator': {'result': 'Yes'}\n",
      "\n",
      "---\n",
      "\n",
      "No result produced.\n"
     ]
    }
   ],
   "source": [
    "loader = DirectoryLoader(r\"C:\\Projects\\Research-Paper-Evaluater\\data\\\\\", glob=\"*.pdf\", loader_cls=PyPDFLoader)\n",
    "documents = loader.load()\n",
    "\n",
    "all_text = \" \".join([doc.page_content for doc in documents])\n",
    "\n",
    "print(\"First 200 characters of the document text:\")\n",
    "print(all_text[:200])\n",
    "\n",
    "sanitized_text = all_text.replace(\"{\", \"{{\").replace(\"}\", \"}}\")\n",
    "\n",
    "if not sanitized_text.strip():\n",
    "    print(\"The document is empty or malformed.\")\n",
    "else:\n",
    "    inputs = {\"doc\": sanitized_text}\n",
    "\n",
    "    final_output = None \n",
    "    for output in app.stream(inputs):\n",
    "        final_output = output \n",
    "        for key, value in output.items():\n",
    "            print(f\"Node '{key}': {value}\")\n",
    "        print(\"\\n---\\n\")\n",
    "\n",
    "    if final_output and \"result\" in final_output:\n",
    "        pprint(final_output[\"result\"])\n",
    "    else:\n",
    "        print(\"No result produced.\")\n"
   ]
  },
  {
   "cell_type": "code",
   "execution_count": null,
   "metadata": {},
   "outputs": [],
   "source": []
  },
  {
   "cell_type": "code",
   "execution_count": null,
   "metadata": {},
   "outputs": [],
   "source": []
  }
 ],
 "metadata": {
  "kernelspec": {
   "display_name": "env2",
   "language": "python",
   "name": "python3"
  },
  "language_info": {
   "codemirror_mode": {
    "name": "ipython",
    "version": 3
   },
   "file_extension": ".py",
   "mimetype": "text/x-python",
   "name": "python",
   "nbconvert_exporter": "python",
   "pygments_lexer": "ipython3",
   "version": "3.10.16"
  }
 },
 "nbformat": 4,
 "nbformat_minor": 2
}
